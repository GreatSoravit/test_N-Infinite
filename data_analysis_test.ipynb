{
 "cells": [
  {
   "cell_type": "markdown",
   "metadata": {},
   "source": [
    "# Data Analysis Test\n",
    "\n",
    "Use file `./ref/crop_data.csv` for input\n",
    "\n",
    "Use `pandas` lib\n",
    "\n",
    "Write your code and display readable result"
   ]
  },
  {
   "cell_type": "code",
   "execution_count": 290,
   "metadata": {},
   "outputs": [],
   "source": [
    "import pandas as pd"
   ]
  },
  {
   "cell_type": "code",
   "execution_count": 291,
   "metadata": {},
   "outputs": [
    {
     "name": "stdout",
     "output_type": "stream",
     "text": [
      "<class 'pandas.core.frame.DataFrame'>\n",
      "RangeIndex: 11914 entries, 0 to 11913\n",
      "Data columns (total 7 columns):\n",
      " #   Column            Non-Null Count  Dtype  \n",
      "---  ------            --------------  -----  \n",
      " 0   crop_year         11914 non-null  object \n",
      " 1   year              11914 non-null  int64  \n",
      " 2   product           11914 non-null  object \n",
      " 3   province          11914 non-null  object \n",
      " 4   area_plant_rai    11769 non-null  float64\n",
      " 5   area_harvest_rai  11728 non-null  float64\n",
      " 6   production_ton    11692 non-null  float64\n",
      "dtypes: float64(3), int64(1), object(3)\n",
      "memory usage: 651.7+ KB\n"
     ]
    }
   ],
   "source": [
    "# read csv file\n",
    "\n",
    "df = pd.read_csv(\"./ref/crop_data.csv\")\n",
    "df.info()"
   ]
  },
  {
   "cell_type": "markdown",
   "metadata": {},
   "source": [
    "### Example Question\n",
    "\n",
    "How many \"ยางพารา\" produced in whole country (\"ทั้งประเทศ\")\n"
   ]
  },
  {
   "cell_type": "code",
   "execution_count": 292,
   "metadata": {},
   "outputs": [
    {
     "data": {
      "text/plain": [
       "47686839.0"
      ]
     },
     "execution_count": 292,
     "metadata": {},
     "output_type": "execute_result"
    }
   ],
   "source": [
    "# How many \"ยางพารา\" produced in whole country (\"ทั้งประเทศ\")\n",
    "new_df = df.loc[\n",
    "    (df[\"product\"] == \"ยางพารา\" ) &\n",
    "    (df[\"province\"] == \"ทั้งประเทศ\") \n",
    "]\n",
    "sum(new_df[\"production_ton\"])\n"
   ]
  },
  {
   "cell_type": "markdown",
   "metadata": {},
   "source": [
    "### Question 1\n",
    "\n",
    "How many \"ข้าวนาปี\" produced in \"ยะลา\" between year 2550 - 2553\n"
   ]
  },
  {
   "cell_type": "code",
   "execution_count": 293,
   "metadata": {},
   "outputs": [
    {
     "name": "stdout",
     "output_type": "stream",
     "text": [
      "year_unique: [2550 2551 2552 2553 2554 2555 2556 2557 2558 2559 2560 2561 2562]\n",
      "product_unique: ['ข้าวนาปี' 'ข้าวนาปรัง' 'ข้าวโพดเลี้ยงสัตว์' 'มันสำปะหลัง' 'สับปะรด'\n",
      " 'ถั่วเหลือง' 'ยางพารา' 'ปาล์มน้ำมัน' 'กาแฟ' 'ลำไย' 'ทุเรียน' 'เงาะ'\n",
      " 'มังคุด' 'ลิ้นจี่' 'ลองกอง' 'พริกไทย' 'ส้มเขียวหวาน' 'มะนาว' 'หอมแดง'\n",
      " 'กระเทียม' 'หอมหัวใหญ่' 'มันฝรั่ง' 'มะเขือเทศ' 'หน่อไม้ฝรั่ง'\n",
      " 'ข้าวโพดหวาน' 'ข้าวโพดฝักอ่อน']\n",
      "province_unique: ['ทั้งประเทศ' 'ภาคเหนือ' 'ภาคตะวันออกเฉียงเหนือ' 'ภาคกลาง' 'ภาคใต้'\n",
      " 'เชียงราย' 'พะเยา' 'ลำปาง' 'ลำพูน' 'เชียงใหม่' 'แม่ฮ่องสอน' 'ตาก'\n",
      " 'กำแพงเพชร' 'สุโขทัย' 'แพร่' 'น่าน' 'อุตรดิตถ์' 'พิษณุโลก' 'พิจิตร'\n",
      " 'นครสวรรค์' 'อุทัยธานี' 'เพชรบูรณ์' 'เลย' 'หนองบัวลำภู' 'อุดรธานี'\n",
      " 'หนองคาย' 'บึงกาฬ' 'สกลนคร' 'นครพนม' 'มุกดาหาร' 'ยโสธร' 'อำนาจเจริญ'\n",
      " 'อุบลราชธานี' 'ศรีสะเกษ' 'สุรินทร์' 'บุรีรัมย์' 'มหาสารคาม' 'ร้อยเอ็ด'\n",
      " 'กาฬสินธุ์' 'ขอนแก่น' 'ชัยภูมิ' 'นครราชสีมา' 'สระบุรี' 'ลพบุรี'\n",
      " 'สิงห์บุรี' 'ชัยนาท' 'สุพรรณบุรี' 'อ่างทอง' 'พระนครศรีอยุธยา' 'นนทบุรี'\n",
      " 'กรุงเทพมหานคร' 'ปทุมธานี' 'นครนายก' 'ปราจีนบุรี' 'ฉะเชิงเทรา' 'สระแก้ว'\n",
      " 'จันทบุรี' 'ตราด' 'ระยอง' 'ชลบุรี' 'สมุทรปราการ' 'สมุทรสาคร' 'นครปฐม'\n",
      " 'กาญจนบุรี' 'ราชบุรี' 'สมุทรสงคราม' 'เพชรบุรี' 'ประจวบคีรีขันธ์' 'ชุมพร'\n",
      " 'ระนอง' 'สุราษฎร์ธานี' 'พังงา' 'ภูเก็ต' 'กระบี่' 'ตรัง' 'นครศรีธรรมราช'\n",
      " 'พัทลุง' 'สงขลา' 'สตูล' 'ปัตตานี' 'ยะลา' 'นราธิวาส' 'อื่นๆ']\n",
      "\n",
      "How many \"ข้าวนาปี\" produced in \"ยะลา\" between year 2550 - 2553\n",
      "Answer:  87707.0\n"
     ]
    }
   ],
   "source": [
    "# Write you code and display question 1 result here.\n",
    "\n",
    "# Check data in specific columns with unique function to overview data that could contain wrong format, spelling, or special characters\n",
    "print(\"year_unique:\", df['year'].unique())\n",
    "print(\"product_unique:\", df['product'].unique())\n",
    "print(\"province_unique:\", df['province'].unique())\n",
    "\n",
    "q1_df = df.loc[\n",
    "  (df[\"product\"] == \"ข้าวนาปี\") &\n",
    "  (df[\"province\"] == \"ยะลา\") &\n",
    "  ((df['year'] >= 2550) & (df['year'] <= 2553))   \n",
    "]\n",
    "\n",
    "print(\"\\nHow many \\\"ข้าวนาปี\\\" produced in \\\"ยะลา\\\" between year 2550 - 2553\")\n",
    "print(\"Answer: \", sum(q1_df[\"production_ton\"]))"
   ]
  },
  {
   "cell_type": "markdown",
   "metadata": {},
   "source": [
    "### Question 2\n",
    "\n",
    "Calculate harvest rate of \"ข้าวนาปี\" in whole country\n",
    "\n",
    "_harvest rate = area_harvest_rai / area_plant_rai_"
   ]
  },
  {
   "cell_type": "code",
   "execution_count": 294,
   "metadata": {},
   "outputs": [
    {
     "name": "stdout",
     "output_type": "stream",
     "text": [
      "No non-numeric values found in 'area_harvest_rai' and 'area_plant_rai'\n",
      "area_harvest_rai 730340255.0\n",
      "area_plant_rai 783456906.0\n",
      "harvest_rate 0.932\n"
     ]
    }
   ],
   "source": [
    "# Write you code and display question 2 result here.\n",
    "# replace with your code\n",
    "\n",
    "# store only product \"ข้าวนาปี\" and provice \"ทั้งประเทศ\"(whole country) in rice_df\n",
    "rice_df = df.loc[(df[\"product\"] == \"ข้าวนาปี\") & (df[\"province\"] == \"ทั้งประเทศ\")] \n",
    "# Check data contain other than numeric with inverting boolean mask and apply pandas is_number function\n",
    "non_numeric_rows_1 = rice_df[~rice_df[\"area_harvest_rai\"].apply(lambda x: pd.api.types.is_number(x))]\n",
    "non_numeric_rows_2 = rice_df[~rice_df[\"area_plant_rai\"].apply(lambda x: pd.api.types.is_number(x))]\n",
    "\n",
    "# If case to check if there are non numeric in the columns\n",
    "if non_numeric_rows_1.empty & non_numeric_rows_2.empty:\n",
    "    print(\"No non-numeric values found in 'area_harvest_rai' and 'area_plant_rai'\")\n",
    "if not non_numeric_rows_1.empty:\n",
    "    print(\"Non-numeric rows found 'area_harvest_rai':\")\n",
    "    print(non_numeric_rows_1)\n",
    "if not non_numeric_rows_2.empty:\n",
    "    print(\"Non-numeric rows found 'area_plant_rai':\")\n",
    "    print(non_numeric_rows_2)\n",
    "\n",
    "# sum rice_df on columns area_harvest_rai and area_plant_rai to use in formula \n",
    "area_harvest_rai = sum(rice_df[\"area_harvest_rai\"])   \n",
    "area_plant_rai = sum(rice_df[\"area_plant_rai\"])\n",
    "harvest_rate = area_harvest_rai / area_plant_rai\n",
    "\n",
    "# print total sum and rate with 3 decimals as it easy to read\n",
    "print('area_harvest_rai', area_harvest_rai)\n",
    "print('area_plant_rai', area_plant_rai)\n",
    "print('harvest_rate', f\"{harvest_rate:.3f}\")"
   ]
  },
  {
   "cell_type": "markdown",
   "metadata": {},
   "source": [
    "### Question 3\n",
    "\n",
    "Calculate total profit of \"ข้าวโพดฝักอ่อน\" produced in \"ภาคเหนือ\" from year 2555 to 2562\n",
    "- profit rate in year 2555 - year 2559 is 50% (selling price is 50THB/kg.)\n",
    "- profit rate in year 2560 - year 2562 is 30% (selling price is 120THB/kg.)\n",
    "- assume all product was sold out every year.\n"
   ]
  },
  {
   "cell_type": "code",
   "execution_count": 295,
   "metadata": {},
   "outputs": [
    {
     "name": "stdout",
     "output_type": "stream",
     "text": [
      "Calculate total profit of \"ข้าวโพดฝักอ่อน\" produced in \"ภาคเหนือ\" from year 2555 to 2562\n",
      "Answer:  5,076,935,000.0 THB\n",
      "or around 5.08 billion THB\n"
     ]
    },
    {
     "name": "stderr",
     "output_type": "stream",
     "text": [
      "C:\\Users\\Lenovo\\AppData\\Local\\Temp\\ipykernel_19680\\2953372250.py:15: SettingWithCopyWarning: \n",
      "A value is trying to be set on a copy of a slice from a DataFrame.\n",
      "Try using .loc[row_indexer,col_indexer] = value instead\n",
      "\n",
      "See the caveats in the documentation: https://pandas.pydata.org/pandas-docs/stable/user_guide/indexing.html#returning-a-view-versus-a-copy\n",
      "  corn_year_2555_2559[\"selling_price_per_ton\"] = selling_price_1_per_kg * 1000\n",
      "C:\\Users\\Lenovo\\AppData\\Local\\Temp\\ipykernel_19680\\2953372250.py:16: SettingWithCopyWarning: \n",
      "A value is trying to be set on a copy of a slice from a DataFrame.\n",
      "Try using .loc[row_indexer,col_indexer] = value instead\n",
      "\n",
      "See the caveats in the documentation: https://pandas.pydata.org/pandas-docs/stable/user_guide/indexing.html#returning-a-view-versus-a-copy\n",
      "  corn_year_2555_2559[\"income\"] = (corn_year_2555_2559[\"production_ton\"] * corn_year_2555_2559[\"selling_price_per_ton\"]).astype('int64')\n",
      "C:\\Users\\Lenovo\\AppData\\Local\\Temp\\ipykernel_19680\\2953372250.py:18: SettingWithCopyWarning: \n",
      "A value is trying to be set on a copy of a slice from a DataFrame.\n",
      "Try using .loc[row_indexer,col_indexer] = value instead\n",
      "\n",
      "See the caveats in the documentation: https://pandas.pydata.org/pandas-docs/stable/user_guide/indexing.html#returning-a-view-versus-a-copy\n",
      "  corn_year_2555_2559[\"profit_thb\"] = corn_year_2555_2559[\"income\"] * 50/100\n",
      "C:\\Users\\Lenovo\\AppData\\Local\\Temp\\ipykernel_19680\\2953372250.py:21: SettingWithCopyWarning: \n",
      "A value is trying to be set on a copy of a slice from a DataFrame.\n",
      "Try using .loc[row_indexer,col_indexer] = value instead\n",
      "\n",
      "See the caveats in the documentation: https://pandas.pydata.org/pandas-docs/stable/user_guide/indexing.html#returning-a-view-versus-a-copy\n",
      "  corn_year_2560_2562[\"selling_price_per_ton\"] = selling_price_2_per_kg * 1000\n",
      "C:\\Users\\Lenovo\\AppData\\Local\\Temp\\ipykernel_19680\\2953372250.py:22: SettingWithCopyWarning: \n",
      "A value is trying to be set on a copy of a slice from a DataFrame.\n",
      "Try using .loc[row_indexer,col_indexer] = value instead\n",
      "\n",
      "See the caveats in the documentation: https://pandas.pydata.org/pandas-docs/stable/user_guide/indexing.html#returning-a-view-versus-a-copy\n",
      "  corn_year_2560_2562[\"income\"] = (corn_year_2560_2562[\"production_ton\"] * corn_year_2560_2562[\"selling_price_per_ton\"]).astype('int64')\n",
      "C:\\Users\\Lenovo\\AppData\\Local\\Temp\\ipykernel_19680\\2953372250.py:24: SettingWithCopyWarning: \n",
      "A value is trying to be set on a copy of a slice from a DataFrame.\n",
      "Try using .loc[row_indexer,col_indexer] = value instead\n",
      "\n",
      "See the caveats in the documentation: https://pandas.pydata.org/pandas-docs/stable/user_guide/indexing.html#returning-a-view-versus-a-copy\n",
      "  corn_year_2560_2562[\"profit_thb\"] = corn_year_2560_2562[\"income\"] * 30/100\n"
     ]
    }
   ],
   "source": [
    "# Write you code and display question 3 result here.\n",
    "\n",
    "# store only product \"ข้าวโพดฝักอ่อน\" and provice \"ภาคเหนือ\" in corn_df\n",
    "corn_df = df.loc[(df[\"product\"] == \"ข้าวโพดฝักอ่อน\") & \n",
    "                 (df[\"province\"] == \"ภาคเหนือ\") & \n",
    "                 (df[\"year\"] >= 2555) & (df[\"year\"] <= 2562)\n",
    "]\n",
    "\n",
    "# store data in two df base on selected year (2555-2559) and (2560-2562)\n",
    "corn_year_2555_2559 = corn_df.loc[(corn_df[\"year\"] >= 2555) & (corn_df[\"year\"] <= 2559)]\n",
    "corn_year_2560_2562 = corn_df.loc[(corn_df[\"year\"] >= 2560) & (corn_df[\"year\"] <= 2562)]\n",
    "\n",
    "# assum production_ton columns meaning that unit is ton, so 1 ton = 1000kg then selling price per kg to ton will mutiply by 1000\n",
    "selling_price_1_per_kg = 50\n",
    "corn_year_2555_2559[\"selling_price_per_ton\"] = selling_price_1_per_kg * 1000\n",
    "corn_year_2555_2559[\"income\"] = (corn_year_2555_2559[\"production_ton\"] * corn_year_2555_2559[\"selling_price_per_ton\"]).astype('int64')\n",
    "# profit rate in year 2555 - year 2559 is 50% (selling price is 50THB/kg.)\n",
    "corn_year_2555_2559[\"profit_thb\"] = corn_year_2555_2559[\"income\"] * 50/100\n",
    "\n",
    "selling_price_2_per_kg = 120\n",
    "corn_year_2560_2562[\"selling_price_per_ton\"] = selling_price_2_per_kg * 1000\n",
    "corn_year_2560_2562[\"income\"] = (corn_year_2560_2562[\"production_ton\"] * corn_year_2560_2562[\"selling_price_per_ton\"]).astype('int64')\n",
    "# profit rate in year 2560 - year 2562 is 30% (selling price is 120THB/kg.)\n",
    "corn_year_2560_2562[\"profit_thb\"] = corn_year_2560_2562[\"income\"] * 30/100\n",
    "\n",
    "# concat two df to have corn_year from 2555 to 2562\n",
    "corn_year_2559_2562 = pd.concat([corn_year_2555_2559, corn_year_2560_2562], ignore_index=True)\n",
    "\n",
    "# sum total_profit on columns profit_thb \n",
    "total_profit = sum(corn_year_2559_2562[\"profit_thb\"])\n",
    "\n",
    "\n",
    "print(\"Calculate total profit of \\\"ข้าวโพดฝักอ่อน\\\" produced in \\\"ภาคเหนือ\\\" from year 2555 to 2562\")\n",
    "print(\"Answer: \", \"{:,} THB\".format(total_profit))\n",
    "print(\"or around\", f\"{total_profit/1000000000:.2f} billion THB\")"
   ]
  },
  {
   "cell_type": "markdown",
   "metadata": {},
   "source": [
    "### Question 4\n",
    "\n",
    "Form question 3, display the dataframe with 'year', 'production_ton', 'income', 'profit_thb' column\n"
   ]
  },
  {
   "cell_type": "code",
   "execution_count": 296,
   "metadata": {},
   "outputs": [
    {
     "data": {
      "text/html": [
       "<div>\n",
       "<style scoped>\n",
       "    .dataframe tbody tr th:only-of-type {\n",
       "        vertical-align: middle;\n",
       "    }\n",
       "\n",
       "    .dataframe tbody tr th {\n",
       "        vertical-align: top;\n",
       "    }\n",
       "\n",
       "    .dataframe thead th {\n",
       "        text-align: right;\n",
       "    }\n",
       "</style>\n",
       "<table border=\"1\" class=\"dataframe\">\n",
       "  <thead>\n",
       "    <tr style=\"text-align: right;\">\n",
       "      <th></th>\n",
       "      <th>year</th>\n",
       "      <th>production_ton</th>\n",
       "      <th>income</th>\n",
       "      <th>profit_thb</th>\n",
       "    </tr>\n",
       "  </thead>\n",
       "  <tbody>\n",
       "    <tr>\n",
       "      <th>0</th>\n",
       "      <td>2555</td>\n",
       "      <td>24741.0</td>\n",
       "      <td>1237050000</td>\n",
       "      <td>618525000.0</td>\n",
       "    </tr>\n",
       "    <tr>\n",
       "      <th>1</th>\n",
       "      <td>2556</td>\n",
       "      <td>25371.0</td>\n",
       "      <td>1268550000</td>\n",
       "      <td>634275000.0</td>\n",
       "    </tr>\n",
       "    <tr>\n",
       "      <th>2</th>\n",
       "      <td>2557</td>\n",
       "      <td>21788.0</td>\n",
       "      <td>1089400000</td>\n",
       "      <td>544700000.0</td>\n",
       "    </tr>\n",
       "    <tr>\n",
       "      <th>3</th>\n",
       "      <td>2558</td>\n",
       "      <td>20499.0</td>\n",
       "      <td>1024950000</td>\n",
       "      <td>512475000.0</td>\n",
       "    </tr>\n",
       "    <tr>\n",
       "      <th>4</th>\n",
       "      <td>2559</td>\n",
       "      <td>19332.0</td>\n",
       "      <td>966600000</td>\n",
       "      <td>483300000.0</td>\n",
       "    </tr>\n",
       "    <tr>\n",
       "      <th>5</th>\n",
       "      <td>2560</td>\n",
       "      <td>21329.0</td>\n",
       "      <td>2559480000</td>\n",
       "      <td>767844000.0</td>\n",
       "    </tr>\n",
       "    <tr>\n",
       "      <th>6</th>\n",
       "      <td>2561</td>\n",
       "      <td>21757.0</td>\n",
       "      <td>2610840000</td>\n",
       "      <td>783252000.0</td>\n",
       "    </tr>\n",
       "    <tr>\n",
       "      <th>7</th>\n",
       "      <td>2562</td>\n",
       "      <td>20349.0</td>\n",
       "      <td>2441880000</td>\n",
       "      <td>732564000.0</td>\n",
       "    </tr>\n",
       "  </tbody>\n",
       "</table>\n",
       "</div>"
      ],
      "text/plain": [
       "   year  production_ton      income   profit_thb\n",
       "0  2555         24741.0  1237050000  618525000.0\n",
       "1  2556         25371.0  1268550000  634275000.0\n",
       "2  2557         21788.0  1089400000  544700000.0\n",
       "3  2558         20499.0  1024950000  512475000.0\n",
       "4  2559         19332.0   966600000  483300000.0\n",
       "5  2560         21329.0  2559480000  767844000.0\n",
       "6  2561         21757.0  2610840000  783252000.0\n",
       "7  2562         20349.0  2441880000  732564000.0"
      ]
     },
     "execution_count": 296,
     "metadata": {},
     "output_type": "execute_result"
    }
   ],
   "source": [
    "# Write you code and display question 4 result here.\n",
    "\n",
    "corn_year_2559_2562[[\"year\",\"production_ton\", \"income\", \"profit_thb\"]]"
   ]
  },
  {
   "cell_type": "markdown",
   "metadata": {},
   "source": [
    "### Question 5\n",
    "\n",
    "We plan to invest in growing soybeans (ถั่วเหลือง) which province should we invest.\n",
    "\n",
    "We looking for\n",
    "- high protential area (high havest_rate)\n",
    "- we want market share only 20% but production_ton should be more than 2000 in the past (2550 - 2562)\n",
    "\n"
   ]
  },
  {
   "cell_type": "code",
   "execution_count": 397,
   "metadata": {},
   "outputs": [
    {
     "name": "stdout",
     "output_type": "stream",
     "text": [
      "no duplicate\n"
     ]
    }
   ],
   "source": [
    "\n",
    "# Write you code and display question 5 result here.\n",
    "\n",
    "exclude_province = ['ทั้งประเทศ', 'ภาคเหนือ', 'ภาคตะวันออกเฉียงเหนือ', 'ภาคกลาง', 'ภาคใต้']\n",
    "# store only product \"ถั่วเหลือง\" except exclude_province in soy_df\n",
    "soy_df = df.loc[(df[\"product\"] == \"ถั่วเหลือง\") & (~df[\"province\"].isin(exclude_province))]\n",
    "# check any duplicate columns \n",
    "if soy_df[soy_df.duplicated(subset=['year', 'province'])].empty:\n",
    "    print(\"no duplicate\")\n",
    "else: print(\"drop duplicate row\", df.drop_duplicates(subset=['year', 'province']))\n",
    "\n",
    "# As we looking to invest in specific province, we will focus on whole year first\n",
    "# Use pandas function group by province to acquire area_harvest_rai, area_plant_rai, production_ton, then calculate harvest_rate\n",
    "harvest_rate_df = pd.DataFrame(soy_df.groupby('province')['area_harvest_rai'].sum().astype(int))\n",
    "harvest_rate_df[\"area_plant_rai\"] = pd.DataFrame(soy_df.groupby('province')['area_plant_rai'].sum().astype(int))\n",
    "harvest_rate_df[\"production_ton\"] = pd.DataFrame(soy_df.groupby('province')['production_ton'].sum().astype(int))\n",
    "harvest_rate_df[\"harvest_rate\"] = (harvest_rate_df[\"area_harvest_rai\"] / harvest_rate_df[\"area_plant_rai\"]).astype(float).round(3)\n",
    "\n",
    "# As we calculate whole year and sort top 10 production_ton and harvest_rate \n",
    "harvest_top = harvest_rate_df.sort_values(by=[\"production_ton\", \"harvest_rate\"], ascending=False)[0:10]"
   ]
  },
  {
   "cell_type": "markdown",
   "metadata": {},
   "source": [
    "\"แม่ฮ่องสอน\" have highest harvest_rate at 0.992 with production_ton 216,298"
   ]
  },
  {
   "cell_type": "code",
   "execution_count": 398,
   "metadata": {},
   "outputs": [
    {
     "data": {
      "image/png": "[encoded data removed]",
      "text/plain": [
       "<Figure size 640x480 with 1 Axes>"
      ]
     },
     "metadata": {},
     "output_type": "display_data"
    }
   ],
   "source": [
    "import matplotlib as mpl\n",
    "import matplotlib.pyplot as plt\n",
    "\n",
    "mpl.font_manager.fontManager.addfont('thsarabunnew-webfont.ttf')\n",
    "mpl.rc('font', family='TH Sarabun New')\n",
    "\n",
    "# We use matplot to display graph to see top 10 from following data\n",
    "\n",
    "soy_plot = soy_df.loc[(soy_df[\"province\"].isin(harvest_top.index))]\n",
    "\n",
    "provinces = soy_plot['province'].unique()\n",
    "\n",
    "for province in provinces:\n",
    "    province_data = soy_plot[soy_plot['province'] == province]\n",
    "    plt.plot(province_data['year'], province_data['production_ton'], label=province)\n",
    "\n",
    "plt.xlabel('Year')\n",
    "plt.ylabel('Production (Ton)')\n",
    "plt.title('Production of Soybeans by Province Over Years')\n",
    "plt.legend()\n",
    "plt.grid(True)\n",
    "plt.show()"
   ]
  },
  {
   "cell_type": "markdown",
   "metadata": {},
   "source": [
    "\"เชียงใหม่\" have highest production_ton in 2554 while it sharply decline in year 2556 and still decrease over year\n",
    "while \"แม่ฮ่องสอน\" slightly decrease during 2554 - 2555 then bounce back over year till 2562"
   ]
  },
  {
   "cell_type": "code",
   "execution_count": 370,
   "metadata": {},
   "outputs": [
    {
     "data": {
      "text/html": [
       "<div>\n",
       "<style scoped>\n",
       "    .dataframe tbody tr th:only-of-type {\n",
       "        vertical-align: middle;\n",
       "    }\n",
       "\n",
       "    .dataframe tbody tr th {\n",
       "        vertical-align: top;\n",
       "    }\n",
       "\n",
       "    .dataframe thead th {\n",
       "        text-align: right;\n",
       "    }\n",
       "</style>\n",
       "<table border=\"1\" class=\"dataframe\">\n",
       "  <thead>\n",
       "    <tr style=\"text-align: right;\">\n",
       "      <th></th>\n",
       "      <th>area_harvest_rai</th>\n",
       "      <th>area_plant_rai</th>\n",
       "      <th>production_ton</th>\n",
       "      <th>harvest_rate</th>\n",
       "      <th>market_share</th>\n",
       "    </tr>\n",
       "    <tr>\n",
       "      <th>province</th>\n",
       "      <th></th>\n",
       "      <th></th>\n",
       "      <th></th>\n",
       "      <th></th>\n",
       "      <th></th>\n",
       "    </tr>\n",
       "  </thead>\n",
       "  <tbody>\n",
       "    <tr>\n",
       "      <th>แม่ฮ่องสอน</th>\n",
       "      <td>690424</td>\n",
       "      <td>696220</td>\n",
       "      <td>216298</td>\n",
       "      <td>0.992</td>\n",
       "      <td>43259.6</td>\n",
       "    </tr>\n",
       "    <tr>\n",
       "      <th>เชียงใหม่</th>\n",
       "      <td>588706</td>\n",
       "      <td>599365</td>\n",
       "      <td>174554</td>\n",
       "      <td>0.982</td>\n",
       "      <td>34910.8</td>\n",
       "    </tr>\n",
       "    <tr>\n",
       "      <th>แพร่</th>\n",
       "      <td>500249</td>\n",
       "      <td>505300</td>\n",
       "      <td>119702</td>\n",
       "      <td>0.990</td>\n",
       "      <td>23940.4</td>\n",
       "    </tr>\n",
       "    <tr>\n",
       "      <th>เลย</th>\n",
       "      <td>372041</td>\n",
       "      <td>391881</td>\n",
       "      <td>98856</td>\n",
       "      <td>0.949</td>\n",
       "      <td>19771.2</td>\n",
       "    </tr>\n",
       "    <tr>\n",
       "      <th>ขอนแก่น</th>\n",
       "      <td>380054</td>\n",
       "      <td>392130</td>\n",
       "      <td>93938</td>\n",
       "      <td>0.969</td>\n",
       "      <td>18787.6</td>\n",
       "    </tr>\n",
       "    <tr>\n",
       "      <th>ชัยภูมิ</th>\n",
       "      <td>378083</td>\n",
       "      <td>391395</td>\n",
       "      <td>88553</td>\n",
       "      <td>0.966</td>\n",
       "      <td>17710.6</td>\n",
       "    </tr>\n",
       "    <tr>\n",
       "      <th>สุโขทัย</th>\n",
       "      <td>250832</td>\n",
       "      <td>264072</td>\n",
       "      <td>71932</td>\n",
       "      <td>0.950</td>\n",
       "      <td>14386.4</td>\n",
       "    </tr>\n",
       "    <tr>\n",
       "      <th>เชียงราย</th>\n",
       "      <td>301801</td>\n",
       "      <td>306223</td>\n",
       "      <td>68852</td>\n",
       "      <td>0.986</td>\n",
       "      <td>13770.4</td>\n",
       "    </tr>\n",
       "    <tr>\n",
       "      <th>ตาก</th>\n",
       "      <td>250254</td>\n",
       "      <td>256160</td>\n",
       "      <td>61549</td>\n",
       "      <td>0.977</td>\n",
       "      <td>12309.8</td>\n",
       "    </tr>\n",
       "    <tr>\n",
       "      <th>น่าน</th>\n",
       "      <td>235172</td>\n",
       "      <td>241064</td>\n",
       "      <td>59940</td>\n",
       "      <td>0.976</td>\n",
       "      <td>11988.0</td>\n",
       "    </tr>\n",
       "  </tbody>\n",
       "</table>\n",
       "</div>"
      ],
      "text/plain": [
       "            area_harvest_rai  area_plant_rai  production_ton  harvest_rate  \\\n",
       "province                                                                     \n",
       "แม่ฮ่องสอน            690424          696220          216298         0.992   \n",
       "เชียงใหม่             588706          599365          174554         0.982   \n",
       "แพร่                  500249          505300          119702         0.990   \n",
       "เลย                   372041          391881           98856         0.949   \n",
       "ขอนแก่น               380054          392130           93938         0.969   \n",
       "ชัยภูมิ               378083          391395           88553         0.966   \n",
       "สุโขทัย               250832          264072           71932         0.950   \n",
       "เชียงราย              301801          306223           68852         0.986   \n",
       "ตาก                   250254          256160           61549         0.977   \n",
       "น่าน                  235172          241064           59940         0.976   \n",
       "\n",
       "            market_share  \n",
       "province                  \n",
       "แม่ฮ่องสอน       43259.6  \n",
       "เชียงใหม่        34910.8  \n",
       "แพร่             23940.4  \n",
       "เลย              19771.2  \n",
       "ขอนแก่น          18787.6  \n",
       "ชัยภูมิ          17710.6  \n",
       "สุโขทัย          14386.4  \n",
       "เชียงราย         13770.4  \n",
       "ตาก              12309.8  \n",
       "น่าน             11988.0  "
      ]
     },
     "execution_count": 370,
     "metadata": {},
     "output_type": "execute_result"
    }
   ],
   "source": [
    "# As we want production_ton should be more than 2000 in the past (2550 - 2562), so we need to filter on production_ton and year\n",
    "soy_over2000_df = soy_df[(soy_df[\"production_ton\"] > 2000) & (soy_df[\"year\"] >= 2550) & (soy_df[\"year\"] <= 2562)]\n",
    "\n",
    "harvest_rate_2000_df = pd.DataFrame(soy_over2000_df.groupby('province')['area_harvest_rai'].sum().astype(int))\n",
    "harvest_rate_2000_df[\"area_plant_rai\"] = pd.DataFrame(soy_over2000_df.groupby('province')['area_plant_rai'].sum().astype(int))\n",
    "harvest_rate_2000_df[\"production_ton\"] = pd.DataFrame(soy_over2000_df.groupby('province')['production_ton'].sum().astype(int))\n",
    "harvest_rate_2000_df[\"harvest_rate\"] = (harvest_rate_2000_df[\"area_harvest_rai\"] / harvest_rate_2000_df[\"area_plant_rai\"]).astype(float).round(3)\n",
    "# then use same formula and add new columns with market share only 20% \n",
    "harvest_rate_2000_df[\"market_share\"] = harvest_rate_2000_df[\"production_ton\"] * 20/100\n",
    "\n",
    "top_10 = harvest_rate_2000_df.sort_values(by=[\"production_ton\", \"harvest_rate\"], ascending=False)[0:10]\n",
    "top_10"
   ]
  },
  {
   "cell_type": "markdown",
   "metadata": {},
   "source": [
    "As we filter production_ton should be more than 2000 with added market share\n",
    "\"แม่ฮ่องสอน\" still have the highest production_ton and market_share while the rest have slightly change on number and rank\n",
    "\n",
    "Therefore \"แม่ฮ่องสอน\" is worth to invest in growing soybeans (ถั่วเหลือง) "
   ]
  }
 ],
 "metadata": {
  "kernelspec": {
   "display_name": "Python 3 (ipykernel)",
   "language": "python",
   "name": "python3"
  },
  "language_info": {
   "codemirror_mode": {
    "name": "ipython",
    "version": 3
   },
   "file_extension": ".py",
   "mimetype": "text/x-python",
   "name": "python",
   "nbconvert_exporter": "python",
   "pygments_lexer": "ipython3",
   "version": "3.9.13"
  }
 },
 "nbformat": 4,
 "nbformat_minor": 2
}
